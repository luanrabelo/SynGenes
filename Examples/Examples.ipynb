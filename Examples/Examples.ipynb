{
 "cells": [
  {
   "cell_type": "markdown",
   "metadata": {},
   "source": [
    "## Install SynGenes"
   ]
  },
  {
   "cell_type": "code",
   "execution_count": null,
   "metadata": {},
   "outputs": [],
   "source": [
    "import subprocess\n",
    "import sys\n",
    "\n",
    "class TerminalColors:\n",
    "    Green       = '\\033[92m'\n",
    "    Warning     = '\\033[93m'\n",
    "    Fail        = '\\033[91m'\n",
    "    End         = '\\033[0m'\n",
    "    Underline   = '\\033[4m'\n",
    "    Blue        = '\\033[94m'\n",
    "\n",
    "try:\n",
    "    from SynGenes import SynGenes\n",
    "    print(f\"{TerminalColors.Green}Module 'SynGenes' found and imported!{TerminalColors.End}\")\n",
    "except ImportError:\n",
    "    print(f\"{TerminalColors.Fail}Module 'SynGenes' not found, please install it with: pip install SynGenes{TerminalColors.End}\")\n",
    "    Choice = str(input(f\"Do you want to install it now? (yes/no)\")).lower()\n",
    "    if Choice in ['y', 'yes', 's']:\n",
    "        print(f\"{TerminalColors.Green}Installing 'SynGenes', please wait...{TerminalColors.End}\")\n",
    "        subprocess.run(['pip', 'install', 'SynGenes'], stdout=subprocess.DEVNULL, stderr=subprocess.STDOUT)\n",
    "        print(f\"{TerminalColors.Green}Module 'SynGenes' installed successfully!{TerminalColors.End}\")\n",
    "        try:\n",
    "            from SynGenes import SynGenes\n",
    "            print(f\"{TerminalColors.Green}Module 'SynGenes' found and imported!{TerminalColors.End}\")\n",
    "        except ImportError:\n",
    "            print(f\"{TerminalColors.Fail}Module 'SynGenes' not found, please reinstall it with: pip install SynGenes{TerminalColors.End}\")\n",
    "            sys.exit()\n",
    "    else:\n",
    "        print(f\"{TerminalColors.Fail}Installation 'SynGenes' aborted!{TerminalColors.End}\")"
   ]
  },
  {
   "cell_type": "markdown",
   "metadata": {},
   "source": [
    "## Starting Class"
   ]
  },
  {
   "cell_type": "code",
   "execution_count": null,
   "metadata": {},
   "outputs": [],
   "source": [
    "sg = SynGenes(verbose=True)"
   ]
  },
  {
   "cell_type": "markdown",
   "metadata": {},
   "source": [
    "## Update SynGenes database"
   ]
  },
  {
   "cell_type": "code",
   "execution_count": null,
   "metadata": {},
   "outputs": [],
   "source": [
    "sg = SynGenes()\n",
    "sg.updateSynGenes()"
   ]
  },
  {
   "cell_type": "markdown",
   "metadata": {},
   "source": [
    "## Fix Genes Names in Standardization "
   ]
  },
  {
   "cell_type": "code",
   "execution_count": null,
   "metadata": {},
   "outputs": [],
   "source": [
    "# Mitocondrial\n",
    "_geneName = sg.fixGeneName(geneName='cytochrome c oxidase subunit I', type='mt')\n",
    "print(_geneName)\n",
    "\n",
    "# Chloroplast\n",
    "_geneName = sg.fixGeneName(geneName='ATPsynthaseCF1 alpha subunit', type='cp')\n",
    "print(_geneName)"
   ]
  },
  {
   "cell_type": "markdown",
   "metadata": {},
   "source": [
    "## Build Query to use in Entrez tool"
   ]
  },
  {
   "cell_type": "code",
   "execution_count": null,
   "metadata": {},
   "outputs": [],
   "source": [
    "query = sg.buildQuery(geneName='COI', type='mt', searchType='Title')\n",
    "print(query)"
   ]
  },
  {
   "cell_type": "markdown",
   "metadata": {},
   "source": [
    "## Create a Json File"
   ]
  },
  {
   "cell_type": "code",
   "execution_count": null,
   "metadata": {},
   "outputs": [],
   "source": [
    "sg.buildJson(pathSaveFile='SynGenes.js')"
   ]
  }
 ],
 "metadata": {
  "kernelspec": {
   "display_name": "dashFishing",
   "language": "python",
   "name": "python3"
  },
  "language_info": {
   "codemirror_mode": {
    "name": "ipython",
    "version": 3
   },
   "file_extension": ".py",
   "mimetype": "text/x-python",
   "name": "python",
   "nbconvert_exporter": "python",
   "pygments_lexer": "ipython3",
   "version": "3.11.5"
  }
 },
 "nbformat": 4,
 "nbformat_minor": 2
}
